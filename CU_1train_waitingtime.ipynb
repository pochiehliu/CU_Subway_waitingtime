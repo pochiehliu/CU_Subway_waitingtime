{
 "cells": [
  {
   "cell_type": "markdown",
   "metadata": {},
   "source": [
    "# Subway status checking\n",
    "\n",
    "#### Reference\n",
    "1. MTA Developer Resources (http://web.mta.info/developers/)\n",
    "2. Google Transit API (https://developers.google.com/transit/gtfs-realtime/examples/python-sample)\n",
    "3. http://web.mta.info/developers/data/nyct/subway/Stations.csv"
   ]
  },
  {
   "cell_type": "code",
   "execution_count": 43,
   "metadata": {},
   "outputs": [],
   "source": [
    "# import required package\n",
    "from google.transit import gtfs_realtime_pb2\n",
    "import requests\n",
    "import datetime"
   ]
  },
  {
   "cell_type": "code",
   "execution_count": 28,
   "metadata": {},
   "outputs": [],
   "source": [
    "# columbia university station id (found from ref 3)\n",
    "Station = 'Columbia University'\n",
    "North = '117N'\n",
    "South = '117S'"
   ]
  },
  {
   "cell_type": "code",
   "execution_count": 29,
   "metadata": {},
   "outputs": [],
   "source": [
    "# initiate gtfs\n",
    "feed = gtfs_realtime_pb2.FeedMessage()"
   ]
  },
  {
   "cell_type": "code",
   "execution_count": 30,
   "metadata": {},
   "outputs": [],
   "source": [
    "# set up url, register an account at REF 1 to get MTA API KEY \n",
    "URL = 'http://datamine.mta.info/mta_esi.php?key=MTA_API_KEY>'"
   ]
  },
  {
   "cell_type": "code",
   "execution_count": 31,
   "metadata": {},
   "outputs": [],
   "source": [
    "# get response\n",
    "response = requests.get(URL)"
   ]
  },
  {
   "cell_type": "code",
   "execution_count": 32,
   "metadata": {},
   "outputs": [],
   "source": [
    "# parsing\n",
    "_ = feed.ParseFromString(response.content)"
   ]
  },
  {
   "cell_type": "code",
   "execution_count": 41,
   "metadata": {},
   "outputs": [],
   "source": [
    "# check what's inside\n",
    "#feed.entity[0]"
   ]
  },
  {
   "cell_type": "code",
   "execution_count": 71,
   "metadata": {},
   "outputs": [
    {
     "name": "stdout",
     "output_type": "stream",
     "text": [
      "2019-04-27 12:31:34.998428\n"
     ]
    }
   ],
   "source": [
    "# time\n",
    "print(datetime.datetime.now())\n",
    "now = datetime.datetime.now().timestamp()\n",
    "tol = 10 # minute"
   ]
  },
  {
   "cell_type": "code",
   "execution_count": 70,
   "metadata": {},
   "outputs": [
    {
     "name": "stdout",
     "output_type": "stream",
     "text": [
      "== Columbia University Station Waiting Time ==\n",
      "Northbound expected waiting time:  0.0  mins.\n",
      "Northbound expected waiting time:  5.0  mins.\n",
      "Southbound expected waiting time:  4.0  mins.\n",
      "== All Service Alerts ==\n",
      "DELAY: Train 1\n",
      "DELAY: Train 1\n",
      "DELAY: Train 5\n"
     ]
    }
   ],
   "source": [
    "print('== Columbia University Station Waiting Time ==')\n",
    "for entity in feed.entity:\n",
    "    # check TripUpdate message only\n",
    "    if entity.HasField('trip_update'): \n",
    "        # check 1 train only\n",
    "        if entity.trip_update.trip.route_id == '1':\n",
    "            # extract expected stop time and calculate waiting time\n",
    "            for msg in entity.trip_update.stop_time_update:\n",
    "                if (msg.stop_id == North) or (msg.stop_id == South):\n",
    "                    waiting_time = (msg.arrival.time - now) // 60 \n",
    "                    if waiting_time < tol and waiting_time >= 0:\n",
    "                        direction = 'Northbound' if msg.stop_id == North else 'Southbound'\n",
    "                        print(direction  + ' expected waiting time: ', waiting_time,' mins.')\n",
    "                        \n",
    "    if entity.HasField('alert'):\n",
    "        print('== All Service Alerts ==')\n",
    "        for alert in entity.alert.informed_entity:\n",
    "            print( \"DELAY: Train\", alert.trip.route_id)"
   ]
  },
  {
   "cell_type": "code",
   "execution_count": null,
   "metadata": {},
   "outputs": [],
   "source": []
  },
  {
   "cell_type": "code",
   "execution_count": null,
   "metadata": {},
   "outputs": [],
   "source": []
  },
  {
   "cell_type": "code",
   "execution_count": null,
   "metadata": {},
   "outputs": [],
   "source": []
  }
 ],
 "metadata": {
  "kernelspec": {
   "display_name": "MTA",
   "language": "python",
   "name": "mtatracking"
  },
  "language_info": {
   "codemirror_mode": {
    "name": "ipython",
    "version": 3
   },
   "file_extension": ".py",
   "mimetype": "text/x-python",
   "name": "python",
   "nbconvert_exporter": "python",
   "pygments_lexer": "ipython3",
   "version": "3.7.3"
  }
 },
 "nbformat": 4,
 "nbformat_minor": 2
}
